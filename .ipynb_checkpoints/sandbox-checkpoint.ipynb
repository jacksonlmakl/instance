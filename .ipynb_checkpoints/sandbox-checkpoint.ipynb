{
 "cells": [
  {
   "cell_type": "code",
   "execution_count": 1,
   "id": "820907f7-d98a-46c9-af4e-3ca01e53084d",
   "metadata": {},
   "outputs": [],
   "source": [
    "from controller import EC2Manager"
   ]
  },
  {
   "cell_type": "code",
   "execution_count": null,
   "id": "1844af69-83c1-42f6-b196-fb4ec8ee199f",
   "metadata": {},
   "outputs": [],
   "source": [
    "#Create New Instance, Install Framework, Launch\n",
    "manager=EC2Manager()\n",
    "manager.create()\n",
    "manager.setup()\n",
    "manager.launch()"
   ]
  },
  {
   "cell_type": "code",
   "execution_count": 2,
   "id": "d9110f56-c45d-46c5-803b-c397d2456c27",
   "metadata": {},
   "outputs": [],
   "source": [
    "#Load Existing Instance\n",
    "manager = EC2Manager(instance_id=\"i-0954f4ef732f93098\")"
   ]
  },
  {
   "cell_type": "code",
   "execution_count": null,
   "id": "d158c968-6913-4a92-b577-b4cfca8c025f",
   "metadata": {},
   "outputs": [],
   "source": [
    "#Boot Instance & Launch\n",
    "manager.start()\n",
    "manager.launch()"
   ]
  },
  {
   "cell_type": "code",
   "execution_count": null,
   "id": "466a5653-dfac-490e-bf0e-ef64d62c0041",
   "metadata": {},
   "outputs": [],
   "source": [
    "#Turn Off Instance\n",
    "manager.stop()"
   ]
  },
  {
   "cell_type": "code",
   "execution_count": null,
   "id": "67cdfdd1-d344-4756-ac90-c18540437940",
   "metadata": {},
   "outputs": [],
   "source": [
    "#Get Public IP Address\n",
    "public_ip=manager.ec2_client.describe_addresses().get('Addresses',[{}])[-1].get('PublicIp')\n",
    "instance_url= f\"http://{public_ip}:1100\"\n",
    "\n"
   ]
  },
  {
   "cell_type": "code",
   "execution_count": 3,
   "id": "268eff4c-d07a-49c3-bd6a-af92548c4800",
   "metadata": {},
   "outputs": [
    {
     "data": {
      "text/plain": [
       "'http://3.15.150.38:1100'"
      ]
     },
     "execution_count": 3,
     "metadata": {},
     "output_type": "execute_result"
    }
   ],
   "source": [
    "manager.instance_url"
   ]
  },
  {
   "cell_type": "code",
   "execution_count": null,
   "id": "be68055c-85df-41b1-b1bb-bbab434cd955",
   "metadata": {},
   "outputs": [],
   "source": []
  },
  {
   "cell_type": "code",
   "execution_count": null,
   "id": "5a2178ab-ab99-4052-97ef-027035ad38db",
   "metadata": {},
   "outputs": [],
   "source": []
  }
 ],
 "metadata": {
  "kernelspec": {
   "display_name": "Python 3 (ipykernel)",
   "language": "python",
   "name": "python3"
  },
  "language_info": {
   "codemirror_mode": {
    "name": "ipython",
    "version": 3
   },
   "file_extension": ".py",
   "mimetype": "text/x-python",
   "name": "python",
   "nbconvert_exporter": "python",
   "pygments_lexer": "ipython3",
   "version": "3.13.1"
  }
 },
 "nbformat": 4,
 "nbformat_minor": 5
}
